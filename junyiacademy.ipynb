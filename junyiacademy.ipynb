{
 "cells": [
  {
   "cell_type": "markdown",
   "metadata": {},
   "source": [
    "# 1"
   ]
  },
  {
   "cell_type": "markdown",
   "metadata": {},
   "source": [
    "(A) 請寫一個程式把裡面的字串反過來。"
   ]
  },
  {
   "cell_type": "code",
   "execution_count": 1,
   "metadata": {},
   "outputs": [],
   "source": [
    "def reverseStr(s):\n",
    "    tmp = ''\n",
    "    for char in s:\n",
    "        tmp = char + tmp\n",
    "    print(tmp)"
   ]
  },
  {
   "cell_type": "code",
   "execution_count": 2,
   "metadata": {},
   "outputs": [
    {
     "name": "stdout",
     "output_type": "stream",
     "text": [
      "olleh\n"
     ]
    }
   ],
   "source": [
    "s = 'hello'\n",
    "reverseStr(s)"
   ]
  },
  {
   "cell_type": "markdown",
   "metadata": {},
   "source": [
    "(B) 請寫一個程式把裡面的字串，每個單字本身做反轉，但是單字的順序不變。\n",
    "(加分題) 請為你的程式寫 unit test。"
   ]
  },
  {
   "cell_type": "code",
   "execution_count": 3,
   "metadata": {},
   "outputs": [],
   "source": [
    "def reverseSentenceStr(s):\n",
    "    \n",
    "    list_str = s.split()\n",
    "    sentence =[]\n",
    "    \n",
    "    for i in range(len(list_str)):\n",
    "        tmp = ''\n",
    "        for char in list_str[i]:\n",
    "            tmp = char + tmp\n",
    "        sentence.append(tmp)\n",
    "        \n",
    "    reverseSentence = ' '\n",
    "    reverseSentence = reverseSentence.join(sentence)\n",
    "    \n",
    "    print(reverseSentence)"
   ]
  },
  {
   "cell_type": "code",
   "execution_count": 4,
   "metadata": {},
   "outputs": [
    {
     "name": "stdout",
     "output_type": "stream",
     "text": [
      "olleh dlrow ay\n"
     ]
    }
   ],
   "source": [
    "s2 = 'hello world ya'\n",
    "reverseSentenceStr(s2)"
   ]
  },
  {
   "cell_type": "markdown",
   "metadata": {},
   "source": [
    "# 2"
   ]
  },
  {
   "cell_type": "markdown",
   "metadata": {},
   "source": [
    "請寫一個程式，Input 是一個數字，Output 是從 1 到這個數字，扣除掉所有 3 的倍數以及 5 的倍數，但是需要保留同時是 3 和 5 的倍數的總數字數。"
   ]
  },
  {
   "cell_type": "code",
   "execution_count": 5,
   "metadata": {},
   "outputs": [],
   "source": [
    "#排容原理\n",
    "def question2(n):\n",
    "    print( n - n//3 - n//5 + 2*n//(3*5) )"
   ]
  },
  {
   "cell_type": "code",
   "execution_count": 6,
   "metadata": {},
   "outputs": [
    {
     "name": "stdout",
     "output_type": "stream",
     "text": [
      "9\n"
     ]
    }
   ],
   "source": [
    "question2(15)"
   ]
  },
  {
   "cell_type": "markdown",
   "metadata": {},
   "source": [
    "# 3 \n",
    "房間裡有三個袋子，一個只裝鉛筆，一個只裝原子筆，第三個有鉛筆也有原子筆。\n",
    "袋子是不透明的，單從袋子的外表上看不出任何差異，你不知道哪個袋子裝什麼。\n",
    "除了袋子上各貼了一個標示（\"鉛筆\"、\"原子筆\"、\"混和\"），且標示都是錯的\n",
    "（e.g. 標示鉛筆的袋子可能是混和的或是只裝原子筆）。\n",
    "你只能選一個袋子，拿出裡面一支筆，看是鉛筆還是原子筆，然後你要推論出這三\n",
    "個袋子分別的情況。請列出你的作法，以及解釋為什麼這樣可以找到答案。"
   ]
  },
  {
   "cell_type": "raw",
   "metadata": {},
   "source": [
    "已知標示都是錯的\n",
    "         A      B     C\n",
    "袋標  |鉛筆  |原子筆|混和  |\n",
    "情況1 |原子筆|混和  |鉛筆  |\n",
    "情況2 |混和  |鉛筆  |原子筆|\n",
    "\n",
    "->選混和那袋\n",
    "if 抽出來是鉛筆，則為情況1\n",
    "if 抽出來原子筆，則為情況2"
   ]
  },
  {
   "cell_type": "markdown",
   "metadata": {},
   "source": [
    "# 4\n",
    "有三個人一起到迪士尼遊玩，中午肚子餓了，去餐廳點了一份現在最夯的冰雪奇緣\n",
    "雙人組，要價 900 元，付錢後，服務生發現今天套餐大特價，只要 750 元，因此\n",
    "服務生應該退還 150 元給這三個人，但是這位服務生一時鬼迷心竅，決定暗槓 60\n",
    "元，只退了 90 元給這三個遊客。\n",
    "那麼：三人各出 300 元 - 服務生還給他們一人 30 元 = 三人各出 270 元。270\n",
    "元 × 3 人+ 服務生私吞的 60 元 = 810 + 60 = 870 !? 怎麼不是 900 元呢？還\n",
    "有 30 元去哪了呢？請用敘述的方式，儘量清楚解釋問題出在哪裡。"
   ]
  },
  {
   "cell_type": "raw",
   "metadata": {},
   "source": [
    "300 (單人付款金額)= 250(原本應付金額) + 20(服務生暗槓金額) + 30 (退還金額)"
   ]
  },
  {
   "cell_type": "code",
   "execution_count": null,
   "metadata": {},
   "outputs": [],
   "source": []
  }
 ],
 "metadata": {
  "kernelspec": {
   "display_name": "Python 3",
   "language": "python",
   "name": "python3"
  },
  "language_info": {
   "codemirror_mode": {
    "name": "ipython",
    "version": 3
   },
   "file_extension": ".py",
   "mimetype": "text/x-python",
   "name": "python",
   "nbconvert_exporter": "python",
   "pygments_lexer": "ipython3",
   "version": "3.7.9"
  }
 },
 "nbformat": 4,
 "nbformat_minor": 4
}
